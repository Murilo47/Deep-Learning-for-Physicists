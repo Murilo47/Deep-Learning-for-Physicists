{
 "cells": [
  {
   "cell_type": "markdown",
   "metadata": {},
   "source": [
    "# Linear regression using Keras\n",
    "\n",
    "In this task we will design and train a linear model using [Keras](https://keras.io/).\n",
    "\n",
    "### Tasks\n",
    "1. Complete the implemetation of the `LinearLayer`\n",
    "2. Define a meaningful objective\n",
    "3. Implement gradient descent and train the linear model for 80 epochs."
   ]
  },
  {
   "cell_type": "code",
   "execution_count": 1,
   "metadata": {},
   "outputs": [],
   "source": [
    "import tensorflow as tf\n",
    "from tensorflow import keras\n",
    "import numpy as np\n",
    "import matplotlib.pyplot as plt\n",
    "\n",
    "layers = keras.layers"
   ]
  },
  {
   "cell_type": "markdown",
   "metadata": {},
   "source": [
    "### Simulation of data\n",
    "Let's first simulate some noisy data"
   ]
  },
  {
   "cell_type": "code",
   "execution_count": 2,
   "metadata": {},
   "outputs": [
    {
     "name": "stdout",
     "output_type": "stream",
     "text": [
      "x.shape: (100, 1)\n",
      "y.shape: (100,)\n"
     ]
    }
   ],
   "source": [
    "# This line sets the random seed for NumPy's random number generator. Setting a seed ensures that if you run the \n",
    "# code multiple times, you will get the same random numbers each time. This is useful for reproducibility.\n",
    "np.random.seed(1904)\n",
    "\n",
    "x = np.float32(np.linspace(-1, 1, 100)[:,np.newaxis])\n",
    "# The [:,np.newaxis] part adds a new axis, transforming the shape from (100,) to (100, 1).\n",
    "\n",
    "y = np.float32(2 * x[:,0] + 0.3 * np.random.randn(100))\n",
    "print(\"x.shape:\", x.shape)\n",
    "print(\"y.shape:\", y.shape)"
   ]
  },
  {
   "cell_type": "markdown",
   "metadata": {},
   "source": [
    "### Implement linear model"
   ]
  },
  {
   "cell_type": "markdown",
   "metadata": {},
   "source": [
    "Now, we have to design a <b>linear layer</b> that maps from the input $x$ to the output $y$ using a single adaptive weight $w$:\n",
    " \n",
    "$$y = w \\cdot x$$\n",
    "\n",
    "### Task 1\n",
    "Complete the implementation of the `LinearLayer` by adding the linear transformation in the `call` function."
   ]
  },
  {
   "cell_type": "code",
   "execution_count": 3,
   "metadata": {},
   "outputs": [],
   "source": [
    "class LinearLayer(layers.Layer):\n",
    "\n",
    "    def __init__(self, units=1, input_dim=1):  # when intializing the layer the weights have to be initialized\n",
    "        super(LinearLayer, self).__init__()\n",
    "        w_init = tf.random_normal_initializer()\n",
    "        self.w = tf.Variable(initial_value=w_init(shape=(input_dim, units), dtype=\"float32\"),\n",
    "                             trainable=True)\n",
    "\n",
    "    def call(self, inputs):  # when calling the layer the linear transformation has to be performed\n",
    "        return tf.matmul(inputs, self.w)"
   ]
  },
  {
   "cell_type": "markdown",
   "metadata": {},
   "source": [
    "Build a model using the implemented layer."
   ]
  },
  {
   "cell_type": "code",
   "execution_count": 4,
   "metadata": {},
   "outputs": [],
   "source": [
    "model = keras.models.Sequential()\n",
    "model.add(LinearLayer(units=1, input_dim=1))"
   ]
  },
  {
   "cell_type": "code",
   "execution_count": 5,
   "metadata": {},
   "outputs": [
    {
     "name": "stdout",
     "output_type": "stream",
     "text": [
      "Model: \"sequential\"\n",
      "_________________________________________________________________\n",
      " Layer (type)                Output Shape              Param #   \n",
      "=================================================================\n",
      " linear_layer (LinearLayer)  (None, 1)                 1         \n",
      "                                                                 \n",
      "=================================================================\n",
      "Total params: 1 (4.00 Byte)\n",
      "Trainable params: 1 (4.00 Byte)\n",
      "Non-trainable params: 0 (0.00 Byte)\n",
      "_________________________________________________________________\n",
      "None\n"
     ]
    }
   ],
   "source": [
    "model.build((None, 1))\n",
    "print(model.summary())"
   ]
  },
  {
   "cell_type": "markdown",
   "metadata": {},
   "source": [
    "### Performance before the training\n",
    "Plot data and model before the training"
   ]
  },
  {
   "cell_type": "code",
   "execution_count": 6,
   "metadata": {},
   "outputs": [
    {
     "data": {
      "image/png": "[encoded data removed]",
      "text/plain": [
       "<Figure size 640x480 with 1 Axes>"
      ]
     },
     "metadata": {},
     "output_type": "display_data"
    }
   ],
   "source": [
    "y_pred = model(x)\n",
    "\n",
    "fig, ax = plt.subplots(1)\n",
    "ax.plot(x, y, 'bo', label='data')\n",
    "ax.plot(x, y_pred, 'r-', label='model')\n",
    "ax.set(xlabel='$x$', ylabel='$y$')\n",
    "ax.grid()\n",
    "ax.legend(loc='lower right')\n",
    "plt.tight_layout()"
   ]
  },
  {
   "cell_type": "markdown",
   "metadata": {},
   "source": [
    "### Task 2: Define the objective function\n",
    "Define a meaningful objective here (regression task).  \n",
    "Note that you can use `tf.reduce_mean()` to average your loss estimate over the full data set (100 points)."
   ]
  },
  {
   "cell_type": "code",
   "execution_count": 7,
   "metadata": {},
   "outputs": [],
   "source": [
    "def loss(x, y):\n",
    "    return tf.reduce_mean((tf.squeeze(x)-tf.squeeze(y))**2)"
   ]
  },
  {
   "cell_type": "markdown",
   "metadata": {},
   "source": [
    "### Task 3 - Train the model using gradient descent\n",
    "'Train' the linear model for 80 epochs (or iterations) with a meaningful learning rate and implement gradient descent.  \n",
    "Hint: you can access the adaptive parameters using `model.trainable_weights` and perform $w' \\rightarrow w-z$ using `w.assign_sub(z)`"
   ]
  },
  {
   "cell_type": "code",
   "execution_count": 8,
   "metadata": {
    "scrolled": true
   },
   "outputs": [
    {
     "name": "stdout",
     "output_type": "stream",
     "text": [
      "Current loss at epoch 0: 1.5629\n",
      "Current loss at epoch 1: 1.3679\n",
      "Current loss at epoch 2: 1.1986\n",
      "Current loss at epoch 3: 1.0515\n",
      "Current loss at epoch 4: 0.9237\n",
      "Current loss at epoch 5: 0.8127\n",
      "Current loss at epoch 6: 0.7164\n",
      "Current loss at epoch 7: 0.6326\n",
      "Current loss at epoch 8: 0.5599\n",
      "Current loss at epoch 9: 0.4967\n",
      "Current loss at epoch 10: 0.4419\n",
      "Current loss at epoch 11: 0.3942\n",
      "Current loss at epoch 12: 0.3528\n",
      "Current loss at epoch 13: 0.3169\n",
      "Current loss at epoch 14: 0.2856\n",
      "Current loss at epoch 15: 0.2585\n",
      "Current loss at epoch 16: 0.2349\n",
      "Current loss at epoch 17: 0.2145\n",
      "Current loss at epoch 18: 0.1967\n",
      "Current loss at epoch 19: 0.1813\n",
      "Current loss at epoch 20: 0.1678\n",
      "Current loss at epoch 21: 0.1562\n",
      "Current loss at epoch 22: 0.1461\n",
      "Current loss at epoch 23: 0.1373\n",
      "Current loss at epoch 24: 0.1297\n",
      "Current loss at epoch 25: 0.1230\n",
      "Current loss at epoch 26: 0.1173\n",
      "Current loss at epoch 27: 0.1123\n",
      "Current loss at epoch 28: 0.1079\n",
      "Current loss at epoch 29: 0.1041\n",
      "Current loss at epoch 30: 0.1009\n",
      "Current loss at epoch 31: 0.0980\n",
      "Current loss at epoch 32: 0.0955\n",
      "Current loss at epoch 33: 0.0934\n",
      "Current loss at epoch 34: 0.0915\n",
      "Current loss at epoch 35: 0.0899\n",
      "Current loss at epoch 36: 0.0885\n",
      "Current loss at epoch 37: 0.0873\n",
      "Current loss at epoch 38: 0.0862\n",
      "Current loss at epoch 39: 0.0853\n",
      "Current loss at epoch 40: 0.0845\n",
      "Current loss at epoch 41: 0.0838\n",
      "Current loss at epoch 42: 0.0832\n",
      "Current loss at epoch 43: 0.0827\n",
      "Current loss at epoch 44: 0.0822\n",
      "Current loss at epoch 45: 0.0818\n",
      "Current loss at epoch 46: 0.0815\n",
      "Current loss at epoch 47: 0.0812\n",
      "Current loss at epoch 48: 0.0809\n",
      "Current loss at epoch 49: 0.0807\n",
      "Current loss at epoch 50: 0.0805\n",
      "Current loss at epoch 51: 0.0803\n",
      "Current loss at epoch 52: 0.0802\n",
      "Current loss at epoch 53: 0.0800\n",
      "Current loss at epoch 54: 0.0799\n",
      "Current loss at epoch 55: 0.0798\n",
      "Current loss at epoch 56: 0.0797\n",
      "Current loss at epoch 57: 0.0797\n",
      "Current loss at epoch 58: 0.0796\n",
      "Current loss at epoch 59: 0.0795\n",
      "Current loss at epoch 60: 0.0795\n",
      "Current loss at epoch 61: 0.0795\n",
      "Current loss at epoch 62: 0.0794\n",
      "Current loss at epoch 63: 0.0794\n",
      "Current loss at epoch 64: 0.0794\n",
      "Current loss at epoch 65: 0.0793\n",
      "Current loss at epoch 66: 0.0793\n",
      "Current loss at epoch 67: 0.0793\n",
      "Current loss at epoch 68: 0.0793\n",
      "Current loss at epoch 69: 0.0793\n",
      "Current loss at epoch 70: 0.0793\n",
      "Current loss at epoch 71: 0.0793\n",
      "Current loss at epoch 72: 0.0792\n",
      "Current loss at epoch 73: 0.0792\n",
      "Current loss at epoch 74: 0.0792\n",
      "Current loss at epoch 75: 0.0792\n",
      "Current loss at epoch 76: 0.0792\n",
      "Current loss at epoch 77: 0.0792\n",
      "Current loss at epoch 78: 0.0792\n",
      "Current loss at epoch 79: 0.0792\n"
     ]
    }
   ],
   "source": [
    "epochs = 80  # number of epochs\n",
    "lr = 0.1  # learning rate\n",
    "\n",
    "for epoch in range(epochs):\n",
    "\n",
    "    with tf.GradientTape() as tape:\n",
    "        # Forward pass: Get the model's predictions for the input data x\n",
    "        output = model(x, training=True)\n",
    "        \n",
    "        # Compute the loss between the predicted output and the ground truth y\n",
    "        loss_value = loss(tf.convert_to_tensor(y), output)\n",
    "        \n",
    "        # Use the recorded operations in the tape to compute the gradient of the loss\n",
    "        # with respect to the trainable weights of the model\n",
    "        grads = tape.gradient(loss_value, model.trainable_weights)\n",
    "        \n",
    "        for weight, grad in zip(model.trainable_weights, grads):\n",
    "            # Subtract grad from the variable using assign_sub\n",
    "            weight.assign_sub(lr * grad)\n",
    "\n",
    "        print(\"Current loss at epoch %d: %.4f\" % (epoch, float(loss_value)))"
   ]
  },
  {
   "cell_type": "markdown",
   "metadata": {},
   "source": [
    "### Performance of the fitted model\n",
    "Plot data and model after the training"
   ]
  },
  {
   "cell_type": "code",
   "execution_count": 9,
   "metadata": {},
   "outputs": [
    {
     "data": {
      "image/png": "[encoded data removed]",
      "text/plain": [
       "<Figure size 640x480 with 1 Axes>"
      ]
     },
     "metadata": {},
     "output_type": "display_data"
    }
   ],
   "source": [
    "fig, ax = plt.subplots(1)\n",
    "\n",
    "y_pred = model(x)\n",
    "\n",
    "ax.plot(x, y, 'bo', label='data')\n",
    "ax.plot(x, y_pred, 'r-', label='model')\n",
    "ax.set(xlabel='$x$', ylabel='$y$')\n",
    "ax.grid()\n",
    "ax.legend(loc='lower right')\n",
    "plt.tight_layout()"
   ]
  }
 ],
 "metadata": {
  "kernelspec": {
   "display_name": "Python 3 (ipykernel)",
   "language": "python",
   "name": "python3"
  },
  "language_info": {
   "codemirror_mode": {
    "name": "ipython",
    "version": 3
   },
   "file_extension": ".py",
   "mimetype": "text/x-python",
   "name": "python",
   "nbconvert_exporter": "python",
   "pygments_lexer": "ipython3",
   "version": "3.11.4"
  }
 },
 "nbformat": 4,
 "nbformat_minor": 4
}
