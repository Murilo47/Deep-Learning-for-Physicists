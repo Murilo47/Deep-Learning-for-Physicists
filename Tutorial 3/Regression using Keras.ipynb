{
 "cells": [
  {
   "cell_type": "markdown",
   "id": "844358f3",
   "metadata": {},
   "source": [
    "# Regression using Keras"
   ]
  },
  {
   "cell_type": "markdown",
   "id": "f170c7ed",
   "metadata": {},
   "source": [
    "In this task we will design and train a regression model and explore the comfort of working with the high-level API of thee Keras library"
   ]
  },
  {
   "cell_type": "code",
   "execution_count": 1,
   "id": "1052d62f",
   "metadata": {},
   "outputs": [],
   "source": [
    "import os\n",
    "import pandas as pd\n",
    "import numpy as np\n",
    "import matplotlib.pyplot as plt\n",
    "import tensorflow as tf\n",
    "from tensorflow import keras\n",
    "from keras.models import Sequential\n",
    "from keras.layers import Dense\n",
    "\n",
    "# set the path to the data\n",
    "csv_path = r\"/Users/murilo/Downloads/Tutorials-20231205/Tutorial 1/winequality-white.csv\"\n",
    "data = pd.read_csv(csv_path, delimiter=\";\")"
   ]
  },
  {
   "cell_type": "code",
   "execution_count": 2,
   "id": "fb6d2479",
   "metadata": {},
   "outputs": [
    {
     "data": {
      "text/html": [
       "<div>\n",
       "<style scoped>\n",
       "    .dataframe tbody tr th:only-of-type {\n",
       "        vertical-align: middle;\n",
       "    }\n",
       "\n",
       "    .dataframe tbody tr th {\n",
       "        vertical-align: top;\n",
       "    }\n",
       "\n",
       "    .dataframe thead th {\n",
       "        text-align: right;\n",
       "    }\n",
       "</style>\n",
       "<table border=\"1\" class=\"dataframe\">\n",
       "  <thead>\n",
       "    <tr style=\"text-align: right;\">\n",
       "      <th></th>\n",
       "      <th>fixed acidity</th>\n",
       "      <th>volatile acidity</th>\n",
       "      <th>citric acid</th>\n",
       "      <th>residual sugar</th>\n",
       "      <th>chlorides</th>\n",
       "      <th>free sulfur dioxide</th>\n",
       "      <th>total sulfur dioxide</th>\n",
       "      <th>density</th>\n",
       "      <th>pH</th>\n",
       "      <th>sulphates</th>\n",
       "      <th>alcohol</th>\n",
       "      <th>quality</th>\n",
       "    </tr>\n",
       "  </thead>\n",
       "  <tbody>\n",
       "    <tr>\n",
       "      <th>0</th>\n",
       "      <td>7.0</td>\n",
       "      <td>0.27</td>\n",
       "      <td>0.36</td>\n",
       "      <td>20.7</td>\n",
       "      <td>0.045</td>\n",
       "      <td>45.0</td>\n",
       "      <td>170.0</td>\n",
       "      <td>1.0010</td>\n",
       "      <td>3.00</td>\n",
       "      <td>0.45</td>\n",
       "      <td>8.8</td>\n",
       "      <td>6</td>\n",
       "    </tr>\n",
       "    <tr>\n",
       "      <th>1</th>\n",
       "      <td>6.3</td>\n",
       "      <td>0.30</td>\n",
       "      <td>0.34</td>\n",
       "      <td>1.6</td>\n",
       "      <td>0.049</td>\n",
       "      <td>14.0</td>\n",
       "      <td>132.0</td>\n",
       "      <td>0.9940</td>\n",
       "      <td>3.30</td>\n",
       "      <td>0.49</td>\n",
       "      <td>9.5</td>\n",
       "      <td>6</td>\n",
       "    </tr>\n",
       "    <tr>\n",
       "      <th>2</th>\n",
       "      <td>8.1</td>\n",
       "      <td>0.28</td>\n",
       "      <td>0.40</td>\n",
       "      <td>6.9</td>\n",
       "      <td>0.050</td>\n",
       "      <td>30.0</td>\n",
       "      <td>97.0</td>\n",
       "      <td>0.9951</td>\n",
       "      <td>3.26</td>\n",
       "      <td>0.44</td>\n",
       "      <td>10.1</td>\n",
       "      <td>6</td>\n",
       "    </tr>\n",
       "    <tr>\n",
       "      <th>3</th>\n",
       "      <td>7.2</td>\n",
       "      <td>0.23</td>\n",
       "      <td>0.32</td>\n",
       "      <td>8.5</td>\n",
       "      <td>0.058</td>\n",
       "      <td>47.0</td>\n",
       "      <td>186.0</td>\n",
       "      <td>0.9956</td>\n",
       "      <td>3.19</td>\n",
       "      <td>0.40</td>\n",
       "      <td>9.9</td>\n",
       "      <td>6</td>\n",
       "    </tr>\n",
       "    <tr>\n",
       "      <th>4</th>\n",
       "      <td>7.2</td>\n",
       "      <td>0.23</td>\n",
       "      <td>0.32</td>\n",
       "      <td>8.5</td>\n",
       "      <td>0.058</td>\n",
       "      <td>47.0</td>\n",
       "      <td>186.0</td>\n",
       "      <td>0.9956</td>\n",
       "      <td>3.19</td>\n",
       "      <td>0.40</td>\n",
       "      <td>9.9</td>\n",
       "      <td>6</td>\n",
       "    </tr>\n",
       "  </tbody>\n",
       "</table>\n",
       "</div>"
      ],
      "text/plain": [
       "   fixed acidity  volatile acidity  citric acid  residual sugar  chlorides  \\\n",
       "0            7.0              0.27         0.36            20.7      0.045   \n",
       "1            6.3              0.30         0.34             1.6      0.049   \n",
       "2            8.1              0.28         0.40             6.9      0.050   \n",
       "3            7.2              0.23         0.32             8.5      0.058   \n",
       "4            7.2              0.23         0.32             8.5      0.058   \n",
       "\n",
       "   free sulfur dioxide  total sulfur dioxide  density    pH  sulphates  \\\n",
       "0                 45.0                 170.0   1.0010  3.00       0.45   \n",
       "1                 14.0                 132.0   0.9940  3.30       0.49   \n",
       "2                 30.0                  97.0   0.9951  3.26       0.44   \n",
       "3                 47.0                 186.0   0.9956  3.19       0.40   \n",
       "4                 47.0                 186.0   0.9956  3.19       0.40   \n",
       "\n",
       "   alcohol  quality  \n",
       "0      8.8        6  \n",
       "1      9.5        6  \n",
       "2     10.1        6  \n",
       "3      9.9        6  \n",
       "4      9.9        6  "
      ]
     },
     "execution_count": 2,
     "metadata": {},
     "output_type": "execute_result"
    }
   ],
   "source": [
    "data.head()"
   ]
  },
  {
   "cell_type": "code",
   "execution_count": 3,
   "id": "515f62cd",
   "metadata": {},
   "outputs": [],
   "source": [
    "# Split the data into train and test sets\n",
    "\n",
    "data_np = data.values # transform to numpy array\n",
    "\n",
    "np.random.shuffle(data_np) # randomly shaffle data\n",
    "\n",
    "# use first 3000 examples for training\n",
    "X_train = data_np[:3000,:11] # predictors\n",
    "y_train = data_np[:3000,11]  # target variable\n",
    "\n",
    "# and remaining examples for testing\n",
    "X_test = data_np[3000:,:11] # predictors\n",
    "y_test = data_np[3000:,11] # target variable"
   ]
  },
  {
   "cell_type": "markdown",
   "id": "10071c06",
   "metadata": {},
   "source": [
    "Below is a simple network implemented using Keras. In addition to the network we define the loss function and optimiser. We can use the Sequential class to very easiliy build a simple architecture. For more information on Keras, see: https://keras.io/api/models/sequential/ and https://keras.io/api/layers/core_layers/dense/"
   ]
  },
  {
   "cell_type": "code",
   "execution_count": 93,
   "id": "dac47c4f",
   "metadata": {},
   "outputs": [],
   "source": [
    "model = Sequential()\n",
    "# 11 inputs, 20 outputs, relu\n",
    "model.add(Dense(40, input_dim=11, activation='relu')) \n",
    "model.add(Dense(40, activation='relu')) \n",
    "model.add(Dense(40, activation='relu')) \n",
    "# 20 inputs (automatically detected by Keras), 1 output, linear activation\n",
    "model.add(Dense(1, activation='linear'))\n",
    "\n",
    "\n",
    "# Adam:\n",
    "opt = keras.optimizers.legacy.Adam(learning_rate=0.0001) \n",
    "\n",
    "# Set loss function and optimiser algorithm\n",
    "model.compile(loss='mse',  # mean squared error\n",
    "              optimizer = opt\n",
    "              # optimizer='sgd'# stochastic gradient descent\n",
    "             ) "
   ]
  },
  {
   "cell_type": "markdown",
   "id": "67f7763c",
   "metadata": {},
   "source": [
    "### Model training and evaluation"
   ]
  },
  {
   "cell_type": "markdown",
   "id": "f2407fef",
   "metadata": {},
   "source": [
    "The code below trains the network for 5 epochs using the loss function and optimiser defined above. Each example is individually passed to the network"
   ]
  },
  {
   "cell_type": "code",
   "execution_count": 94,
   "id": "3829fc17",
   "metadata": {
    "scrolled": true
   },
   "outputs": [
    {
     "name": "stdout",
     "output_type": "stream",
     "text": [
      "Epoch 1/50\n",
      "188/188 [==============================] - 0s 838us/step - loss: 81.3217 - val_loss: 4.7536\n",
      "Epoch 2/50\n",
      "188/188 [==============================] - 0s 626us/step - loss: 4.2469 - val_loss: 3.4094\n",
      "Epoch 3/50\n",
      "188/188 [==============================] - 0s 615us/step - loss: 3.0146 - val_loss: 2.3152\n",
      "Epoch 4/50\n",
      "188/188 [==============================] - 0s 612us/step - loss: 1.6942 - val_loss: 1.3071\n",
      "Epoch 5/50\n",
      "188/188 [==============================] - 0s 623us/step - loss: 1.1374 - val_loss: 0.9660\n",
      "Epoch 6/50\n",
      "188/188 [==============================] - 0s 620us/step - loss: 0.9120 - val_loss: 0.8520\n",
      "Epoch 7/50\n",
      "188/188 [==============================] - 0s 610us/step - loss: 0.8241 - val_loss: 0.8069\n",
      "Epoch 8/50\n",
      "188/188 [==============================] - 0s 642us/step - loss: 0.7960 - val_loss: 0.7952\n",
      "Epoch 9/50\n",
      "188/188 [==============================] - 0s 623us/step - loss: 0.7719 - val_loss: 0.7791\n",
      "Epoch 10/50\n",
      "188/188 [==============================] - 0s 602us/step - loss: 0.7755 - val_loss: 0.7839\n",
      "Epoch 11/50\n",
      "188/188 [==============================] - 0s 597us/step - loss: 0.7568 - val_loss: 0.7797\n",
      "Epoch 12/50\n",
      "188/188 [==============================] - 0s 622us/step - loss: 0.7411 - val_loss: 0.8279\n",
      "Epoch 13/50\n",
      "188/188 [==============================] - 0s 599us/step - loss: 0.7368 - val_loss: 0.7406\n",
      "Epoch 14/50\n",
      "188/188 [==============================] - 0s 594us/step - loss: 0.7173 - val_loss: 0.7687\n",
      "Epoch 15/50\n",
      "188/188 [==============================] - 0s 596us/step - loss: 0.7173 - val_loss: 0.7205\n",
      "Epoch 16/50\n",
      "188/188 [==============================] - 0s 627us/step - loss: 0.6960 - val_loss: 0.7181\n",
      "Epoch 17/50\n",
      "188/188 [==============================] - 0s 597us/step - loss: 0.7001 - val_loss: 0.7418\n",
      "Epoch 18/50\n",
      "188/188 [==============================] - 0s 602us/step - loss: 0.6872 - val_loss: 0.7217\n",
      "Epoch 19/50\n",
      "188/188 [==============================] - 0s 593us/step - loss: 0.6898 - val_loss: 0.6997\n",
      "Epoch 20/50\n",
      "188/188 [==============================] - 0s 595us/step - loss: 0.6716 - val_loss: 0.7039\n",
      "Epoch 21/50\n",
      "188/188 [==============================] - 0s 593us/step - loss: 0.6709 - val_loss: 0.6870\n",
      "Epoch 22/50\n",
      "188/188 [==============================] - 0s 590us/step - loss: 0.6762 - val_loss: 0.6994\n",
      "Epoch 23/50\n",
      "188/188 [==============================] - 0s 599us/step - loss: 0.6606 - val_loss: 0.6764\n",
      "Epoch 24/50\n",
      "188/188 [==============================] - 0s 598us/step - loss: 0.6626 - val_loss: 0.6741\n",
      "Epoch 25/50\n",
      "188/188 [==============================] - 0s 594us/step - loss: 0.6655 - val_loss: 0.6646\n",
      "Epoch 26/50\n",
      "188/188 [==============================] - 0s 598us/step - loss: 0.6599 - val_loss: 0.7336\n",
      "Epoch 27/50\n",
      "188/188 [==============================] - 0s 597us/step - loss: 0.6544 - val_loss: 0.6668\n",
      "Epoch 28/50\n",
      "188/188 [==============================] - 0s 594us/step - loss: 0.6599 - val_loss: 0.6549\n",
      "Epoch 29/50\n",
      "188/188 [==============================] - 0s 602us/step - loss: 0.6541 - val_loss: 0.6503\n",
      "Epoch 30/50\n",
      "188/188 [==============================] - 0s 590us/step - loss: 0.6549 - val_loss: 0.6689\n",
      "Epoch 31/50\n",
      "188/188 [==============================] - 0s 593us/step - loss: 0.6405 - val_loss: 0.6920\n",
      "Epoch 32/50\n",
      "188/188 [==============================] - 0s 593us/step - loss: 0.6360 - val_loss: 0.6418\n",
      "Epoch 33/50\n",
      "188/188 [==============================] - 0s 604us/step - loss: 0.6379 - val_loss: 0.6385\n",
      "Epoch 34/50\n",
      "188/188 [==============================] - 0s 596us/step - loss: 0.6347 - val_loss: 0.6560\n",
      "Epoch 35/50\n",
      "188/188 [==============================] - 0s 593us/step - loss: 0.6421 - val_loss: 0.6511\n",
      "Epoch 36/50\n",
      "188/188 [==============================] - 0s 592us/step - loss: 0.6328 - val_loss: 0.6501\n",
      "Epoch 37/50\n",
      "188/188 [==============================] - 0s 595us/step - loss: 0.6249 - val_loss: 0.6808\n",
      "Epoch 38/50\n",
      "188/188 [==============================] - 0s 596us/step - loss: 0.6231 - val_loss: 0.6395\n",
      "Epoch 39/50\n",
      "188/188 [==============================] - 0s 595us/step - loss: 0.6182 - val_loss: 0.7745\n",
      "Epoch 40/50\n",
      "188/188 [==============================] - 0s 597us/step - loss: 0.6278 - val_loss: 0.9083\n",
      "Epoch 41/50\n",
      "188/188 [==============================] - 0s 591us/step - loss: 0.6356 - val_loss: 0.6404\n",
      "Epoch 42/50\n",
      "188/188 [==============================] - 0s 593us/step - loss: 0.6097 - val_loss: 0.6734\n",
      "Epoch 43/50\n",
      "188/188 [==============================] - 0s 595us/step - loss: 0.6120 - val_loss: 0.6572\n",
      "Epoch 44/50\n",
      "188/188 [==============================] - 0s 604us/step - loss: 0.6071 - val_loss: 0.6538\n",
      "Epoch 45/50\n",
      "188/188 [==============================] - 0s 594us/step - loss: 0.6037 - val_loss: 0.6326\n",
      "Epoch 46/50\n",
      "188/188 [==============================] - 0s 596us/step - loss: 0.6140 - val_loss: 0.6096\n",
      "Epoch 47/50\n",
      "188/188 [==============================] - 0s 591us/step - loss: 0.5934 - val_loss: 0.6294\n",
      "Epoch 48/50\n",
      "188/188 [==============================] - 0s 597us/step - loss: 0.5918 - val_loss: 0.6100\n",
      "Epoch 49/50\n",
      "188/188 [==============================] - 0s 595us/step - loss: 0.6003 - val_loss: 0.6998\n",
      "Epoch 50/50\n",
      "188/188 [==============================] - 0s 598us/step - loss: 0.6066 - val_loss: 0.6121\n"
     ]
    }
   ],
   "source": [
    "history = model.fit(X_train, y_train, \n",
    "                    validation_data=(X_test, y_test),\n",
    "                    epochs=50, batch_size=16)"
   ]
  },
  {
   "cell_type": "markdown",
   "id": "b75354af",
   "metadata": {},
   "source": [
    "The history object returned by the model training above contains the values of the loss function (the mean-squared-error) at different epochs. We discard the first epoch as the loss value is very high, obscuring the rest of the distribution"
   ]
  },
  {
   "cell_type": "code",
   "execution_count": 95,
   "id": "312fafe3",
   "metadata": {},
   "outputs": [],
   "source": [
    "train_loss = history.history[\"loss\"][1:]\n",
    "test_loss = history.history[\"val_loss\"][1:]"
   ]
  },
  {
   "cell_type": "code",
   "execution_count": 96,
   "id": "08a4a3e3",
   "metadata": {},
   "outputs": [
    {
     "data": {
      "image/png": "[encoded data removed]",
      "text/plain": [
       "<Figure size 640x480 with 1 Axes>"
      ]
     },
     "metadata": {},
     "output_type": "display_data"
    }
   ],
   "source": [
    "# Prepare and plot loss over time\n",
    "plt.plot(train_loss,label=\"train\")\n",
    "plt.plot(test_loss,label=\"test\")\n",
    "plt.legend()\n",
    "plt.xlabel(\"Epoch-1\")\n",
    "plt.ylabel(\"Loss\")\n",
    "plt.show()"
   ]
  },
  {
   "cell_type": "code",
   "execution_count": 97,
   "id": "bc029fe5",
   "metadata": {},
   "outputs": [
    {
     "name": "stdout",
     "output_type": "stream",
     "text": [
      "60/60 [==============================] - 0s 373us/step\n",
      "Correlation coefficient: 0.5002895231655771\n"
     ]
    },
    {
     "data": {
      "image/png": "[encoded data removed]",
      "text/plain": [
       "<Figure size 640x480 with 1 Axes>"
      ]
     },
     "metadata": {},
     "output_type": "display_data"
    }
   ],
   "source": [
    "# After the training:\n",
    "\n",
    "# Prepare scatter plot\n",
    "y_pred = model.predict(X_test)[:,0]\n",
    "\n",
    "print(\"Correlation coefficient:\", np.corrcoef(y_pred,y_test)[0,1])\n",
    "plt.scatter(y_pred,y_test)\n",
    "plt.xlabel(\"Predicted\")\n",
    "plt.ylabel(\"True\")\n",
    "plt.show()"
   ]
  },
  {
   "cell_type": "code",
   "execution_count": 82,
   "id": "45298c86",
   "metadata": {},
   "outputs": [
    {
     "data": {
      "text/plain": [
       "array([[1.        , 0.41971893],\n",
       "       [0.41971893, 1.        ]])"
      ]
     },
     "execution_count": 82,
     "metadata": {},
     "output_type": "execute_result"
    }
   ],
   "source": [
    "np.corrcoef(y_pred,y_test)"
   ]
  },
  {
   "cell_type": "markdown",
   "id": "a0ca365f",
   "metadata": {},
   "source": [
    "### Tasks"
   ]
  },
  {
   "cell_type": "markdown",
   "id": "3574d209",
   "metadata": {},
   "source": [
    "- Use the notebook as starting point. It already contains a simple network implemented in Keras\n",
    "\n",
    "- Currently, SGD is used without momentum. Try training the same network with a momentum term. Replace SGD with the Adam optimizer and train using that. (See: https://keras.io/api/optimizers/)\n",
    "\n",
    "- Add two more hidden layers to the network (you can choose the number of nodes but make sure to apply the ReLu activation function after each) and train again\n",
    "\n",
    "- Test differet numbers of examples (i.e. change the size of the minibatch) to be simulataneously used by the network"
   ]
  },
  {
   "cell_type": "code",
   "execution_count": null,
   "id": "9b36a08a",
   "metadata": {},
   "outputs": [],
   "source": []
  }
 ],
 "metadata": {
  "kernelspec": {
   "display_name": "Python 3 (ipykernel)",
   "language": "python",
   "name": "python3"
  },
  "language_info": {
   "codemirror_mode": {
    "name": "ipython",
    "version": 3
   },
   "file_extension": ".py",
   "mimetype": "text/x-python",
   "name": "python",
   "nbconvert_exporter": "python",
   "pygments_lexer": "ipython3",
   "version": "3.11.4"
  }
 },
 "nbformat": 4,
 "nbformat_minor": 5
}
